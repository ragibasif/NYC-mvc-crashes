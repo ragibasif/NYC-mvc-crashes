{
 "cells": [
  {
   "cell_type": "code",
   "execution_count": 2,
   "id": "ed775d7b-e9fe-4676-8790-8d3e86bc2a3c",
   "metadata": {
    "scrolled": true
   },
   "outputs": [
    {
     "name": "stderr",
     "output_type": "stream",
     "text": [
      "/var/folders/qf/thggxffx643_rhwr9s1hfhpw0000gq/T/ipykernel_5524/1841739917.py:5: DtypeWarning: Columns (3) have mixed types. Specify dtype option on import or set low_memory=False.\n",
      "  df = pd.read_csv('data/raw/Motor_Vehicle_Collisions___Crashes_20250123.csv')\n"
     ]
    },
    {
     "name": "stdout",
     "output_type": "stream",
     "text": [
      "   CRASH DATE CRASH TIME    BOROUGH                 LOCATION\n",
      "0  09/11/2021       9:35   BROOKLYN    (40.667202, -73.8665)\n",
      "1  12/14/2021       8:13   BROOKLYN  (40.683304, -73.917274)\n",
      "2  12/14/2021       8:17      BRONX    (40.86816, -73.83148)\n",
      "3  12/14/2021      21:10   BROOKLYN     (40.67172, -73.8971)\n",
      "4  12/14/2021      14:58  MANHATTAN    (40.75144, -73.97397)\n"
     ]
    }
   ],
   "source": [
    "import pandas as pd\n",
    "#Motor_Vehicle_Collisions___Crashes_20250123.csv -- Raw Data\n",
    "\n",
    "# Read the CSV file\n",
    "df = pd.read_csv('data/raw/Motor_Vehicle_Collisions___Crashes_20250123.csv')\n",
    "# Select specific columns\n",
    "df_cols = df[[\"CRASH DATE\", \"CRASH TIME\", \"BOROUGH\", \"LOCATION\"]]\n",
    "# Drop rows with NaN in any column\n",
    "df_cleaned = df_cols.dropna()\n",
    "# Reset the index after filtering\n",
    "df_cleaned = df_cleaned.reset_index(drop=True)\n",
    "# Display the first few rows\n",
    "print(df_cleaned.head())\n",
    "# Save the cleaned data to a new CSV file\n",
    "df_cleaned.to_csv(\"data/clean/mvc_crashes.csv\", index=False)"
   ]
  },
  {
   "cell_type": "code",
   "execution_count": 3,
   "id": "5885fbdd-550a-477b-a4ca-21af9114ba28",
   "metadata": {},
   "outputs": [
    {
     "name": "stdout",
     "output_type": "stream",
     "text": [
      "   CRASH DATE CRASH TIME    BOROUGH                 LOCATION\n",
      "0  09/11/2021       9:35   BROOKLYN    (40.667202, -73.8665)\n",
      "1  12/14/2021       8:13   BROOKLYN  (40.683304, -73.917274)\n",
      "2  12/14/2021       8:17      BRONX    (40.86816, -73.83148)\n",
      "3  12/14/2021      21:10   BROOKLYN     (40.67172, -73.8971)\n",
      "4  12/14/2021      14:58  MANHATTAN    (40.75144, -73.97397)\n"
     ]
    }
   ],
   "source": [
    "import pandas as pd\n",
    "# Read the CSV file\n",
    "df = pd.read_csv('data/clean/mvc_crashes.csv')\n",
    "# Display the first few rows\n",
    "print(df.head())\n"
   ]
  },
  {
   "cell_type": "code",
   "execution_count": null,
   "id": "7aefbacd-e1bf-436b-b6db-8c74c67b5ca6",
   "metadata": {},
   "outputs": [],
   "source": []
  }
 ],
 "metadata": {
  "kernelspec": {
   "display_name": "Python 3 (ipykernel)",
   "language": "python",
   "name": "python3"
  },
  "language_info": {
   "codemirror_mode": {
    "name": "ipython",
    "version": 3
   },
   "file_extension": ".py",
   "mimetype": "text/x-python",
   "name": "python",
   "nbconvert_exporter": "python",
   "pygments_lexer": "ipython3",
   "version": "3.9.21"
  }
 },
 "nbformat": 4,
 "nbformat_minor": 5
}
